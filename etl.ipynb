{
 "cells": [
  {
   "cell_type": "markdown",
   "metadata": {},
   "source": [
    "# ETL Processes\n",
    "Use this notebook to develop the ETL process for each of your tables before completing the `etl.py` file to load the whole datasets."
   ]
  },
  {
   "cell_type": "code",
   "execution_count": 1,
   "metadata": {
    "collapsed": true
   },
   "outputs": [],
   "source": [
    "import os\n",
    "import glob\n",
    "import psycopg2\n",
    "import pandas as pd\n",
    "from sql_queries import *"
   ]
  },
  {
   "cell_type": "code",
   "execution_count": 2,
   "metadata": {
    "collapsed": true
   },
   "outputs": [],
   "source": [
    "conn = psycopg2.connect(\"host=127.0.0.1 dbname=sparkifydb user=postgres password=P@ssw0rd123\")\n",
    "cur = conn.cursor()"
   ]
  },
  {
   "cell_type": "code",
   "execution_count": 3,
   "metadata": {
    "collapsed": true
   },
   "outputs": [],
   "source": [
    "def get_files(filepath):\n",
    "    all_files = []\n",
    "    for root, dirs, files in os.walk(filepath):\n",
    "        files = glob.glob(os.path.join(root,'*.json'))\n",
    "        for f in files :\n",
    "            all_files.append(os.path.abspath(f))\n",
    "    \n",
    "    return all_files"
   ]
  },
  {
   "cell_type": "markdown",
   "metadata": {},
   "source": [
    "# Process `song_data`\n",
    "In this first part, you'll perform ETL on the first dataset, `song_data`, to create the `songs` and `artists` dimensional tables.\n",
    "\n",
    "Let's perform ETL on a single song file and load a single record into each table to start.\n",
    "- Use the `get_files` function provided above to get a list of all song JSON files in `data/song_data`\n",
    "- Select the first song in this list\n",
    "- Read the song file and view the data"
   ]
  },
  {
   "cell_type": "code",
   "execution_count": 4,
   "metadata": {
    "collapsed": true
   },
   "outputs": [],
   "source": [
    "song_files = get_files(\"data/song_data\")"
   ]
  },
  {
   "cell_type": "code",
   "execution_count": 5,
   "metadata": {},
   "outputs": [
    {
     "data": {
      "text/plain": [
       "['/home/tomiwasalau/Documents/Postgres/Database_modelling_Postgres/Buidling Sparkify Music Db using Postgres/data/song_data/A/B/B/TRABBLU128F93349CF.json',\n",
       " '/home/tomiwasalau/Documents/Postgres/Database_modelling_Postgres/Buidling Sparkify Music Db using Postgres/data/song_data/A/B/B/TRABBXU128F92FEF48.json',\n",
       " '/home/tomiwasalau/Documents/Postgres/Database_modelling_Postgres/Buidling Sparkify Music Db using Postgres/data/song_data/A/B/B/TRABBOP128F931B50D.json',\n",
       " '/home/tomiwasalau/Documents/Postgres/Database_modelling_Postgres/Buidling Sparkify Music Db using Postgres/data/song_data/A/B/B/TRABBVJ128F92F7EAA.json',\n",
       " '/home/tomiwasalau/Documents/Postgres/Database_modelling_Postgres/Buidling Sparkify Music Db using Postgres/data/song_data/A/B/B/TRABBAM128F429D223.json',\n",
       " '/home/tomiwasalau/Documents/Postgres/Database_modelling_Postgres/Buidling Sparkify Music Db using Postgres/data/song_data/A/B/B/TRABBKX128F4285205.json',\n",
       " '/home/tomiwasalau/Documents/Postgres/Database_modelling_Postgres/Buidling Sparkify Music Db using Postgres/data/song_data/A/B/B/TRABBJE12903CDB442.json',\n",
       " '/home/tomiwasalau/Documents/Postgres/Database_modelling_Postgres/Buidling Sparkify Music Db using Postgres/data/song_data/A/B/B/TRABBNP128F932546F.json',\n",
       " '/home/tomiwasalau/Documents/Postgres/Database_modelling_Postgres/Buidling Sparkify Music Db using Postgres/data/song_data/A/B/B/TRABBBV128F42967D7.json',\n",
       " '/home/tomiwasalau/Documents/Postgres/Database_modelling_Postgres/Buidling Sparkify Music Db using Postgres/data/song_data/A/B/B/TRABBTA128F933D304.json',\n",
       " '/home/tomiwasalau/Documents/Postgres/Database_modelling_Postgres/Buidling Sparkify Music Db using Postgres/data/song_data/A/B/B/TRABBOR128F4286200.json',\n",
       " '/home/tomiwasalau/Documents/Postgres/Database_modelling_Postgres/Buidling Sparkify Music Db using Postgres/data/song_data/A/B/B/TRABBZN12903CD9297.json',\n",
       " '/home/tomiwasalau/Documents/Postgres/Database_modelling_Postgres/Buidling Sparkify Music Db using Postgres/data/song_data/A/B/C/TRABCYE128F934CE1D.json',\n",
       " '/home/tomiwasalau/Documents/Postgres/Database_modelling_Postgres/Buidling Sparkify Music Db using Postgres/data/song_data/A/B/C/TRABCEI128F424C983.json',\n",
       " '/home/tomiwasalau/Documents/Postgres/Database_modelling_Postgres/Buidling Sparkify Music Db using Postgres/data/song_data/A/B/C/TRABCKL128F423A778.json',\n",
       " '/home/tomiwasalau/Documents/Postgres/Database_modelling_Postgres/Buidling Sparkify Music Db using Postgres/data/song_data/A/B/C/TRABCFL128F149BB0D.json',\n",
       " '/home/tomiwasalau/Documents/Postgres/Database_modelling_Postgres/Buidling Sparkify Music Db using Postgres/data/song_data/A/B/C/TRABCTK128F934B224.json',\n",
       " '/home/tomiwasalau/Documents/Postgres/Database_modelling_Postgres/Buidling Sparkify Music Db using Postgres/data/song_data/A/B/C/TRABCUQ128E0783E2B.json',\n",
       " '/home/tomiwasalau/Documents/Postgres/Database_modelling_Postgres/Buidling Sparkify Music Db using Postgres/data/song_data/A/B/C/TRABCRU128F423F449.json',\n",
       " '/home/tomiwasalau/Documents/Postgres/Database_modelling_Postgres/Buidling Sparkify Music Db using Postgres/data/song_data/A/B/C/TRABCIX128F4265903.json',\n",
       " '/home/tomiwasalau/Documents/Postgres/Database_modelling_Postgres/Buidling Sparkify Music Db using Postgres/data/song_data/A/B/C/TRABCEC128F426456E.json',\n",
       " '/home/tomiwasalau/Documents/Postgres/Database_modelling_Postgres/Buidling Sparkify Music Db using Postgres/data/song_data/A/B/C/TRABCXB128F4286BD3.json',\n",
       " '/home/tomiwasalau/Documents/Postgres/Database_modelling_Postgres/Buidling Sparkify Music Db using Postgres/data/song_data/A/B/C/TRABCAJ12903CDFCC2.json',\n",
       " '/home/tomiwasalau/Documents/Postgres/Database_modelling_Postgres/Buidling Sparkify Music Db using Postgres/data/song_data/A/B/C/TRABCPZ128F4275C32.json',\n",
       " '/home/tomiwasalau/Documents/Postgres/Database_modelling_Postgres/Buidling Sparkify Music Db using Postgres/data/song_data/A/B/A/TRABAXL128F424FC50.json',\n",
       " '/home/tomiwasalau/Documents/Postgres/Database_modelling_Postgres/Buidling Sparkify Music Db using Postgres/data/song_data/A/B/A/TRABATO128F42627E9.json',\n",
       " '/home/tomiwasalau/Documents/Postgres/Database_modelling_Postgres/Buidling Sparkify Music Db using Postgres/data/song_data/A/B/A/TRABAWW128F4250A31.json',\n",
       " '/home/tomiwasalau/Documents/Postgres/Database_modelling_Postgres/Buidling Sparkify Music Db using Postgres/data/song_data/A/B/A/TRABAXR128F426515F.json',\n",
       " '/home/tomiwasalau/Documents/Postgres/Database_modelling_Postgres/Buidling Sparkify Music Db using Postgres/data/song_data/A/B/A/TRABAVQ12903CBF7E0.json',\n",
       " '/home/tomiwasalau/Documents/Postgres/Database_modelling_Postgres/Buidling Sparkify Music Db using Postgres/data/song_data/A/B/A/TRABAIO128F42938F9.json',\n",
       " '/home/tomiwasalau/Documents/Postgres/Database_modelling_Postgres/Buidling Sparkify Music Db using Postgres/data/song_data/A/B/A/TRABAFJ128F42AF24E.json',\n",
       " '/home/tomiwasalau/Documents/Postgres/Database_modelling_Postgres/Buidling Sparkify Music Db using Postgres/data/song_data/A/B/A/TRABAFP128F931E9A1.json',\n",
       " '/home/tomiwasalau/Documents/Postgres/Database_modelling_Postgres/Buidling Sparkify Music Db using Postgres/data/song_data/A/B/A/TRABAZH128F930419A.json',\n",
       " '/home/tomiwasalau/Documents/Postgres/Database_modelling_Postgres/Buidling Sparkify Music Db using Postgres/data/song_data/A/B/A/TRABAXV128F92F6AE3.json',\n",
       " '/home/tomiwasalau/Documents/Postgres/Database_modelling_Postgres/Buidling Sparkify Music Db using Postgres/data/song_data/A/B/A/TRABACN128F425B784.json',\n",
       " '/home/tomiwasalau/Documents/Postgres/Database_modelling_Postgres/Buidling Sparkify Music Db using Postgres/data/song_data/A/A/B/TRAABYN12903CFD305.json',\n",
       " '/home/tomiwasalau/Documents/Postgres/Database_modelling_Postgres/Buidling Sparkify Music Db using Postgres/data/song_data/A/A/B/TRAABNV128F425CEE1.json',\n",
       " '/home/tomiwasalau/Documents/Postgres/Database_modelling_Postgres/Buidling Sparkify Music Db using Postgres/data/song_data/A/A/B/TRAABCL128F4286650.json',\n",
       " '/home/tomiwasalau/Documents/Postgres/Database_modelling_Postgres/Buidling Sparkify Music Db using Postgres/data/song_data/A/A/B/TRAABVM128F92CA9DC.json',\n",
       " '/home/tomiwasalau/Documents/Postgres/Database_modelling_Postgres/Buidling Sparkify Music Db using Postgres/data/song_data/A/A/B/TRAABJV128F1460C49.json',\n",
       " '/home/tomiwasalau/Documents/Postgres/Database_modelling_Postgres/Buidling Sparkify Music Db using Postgres/data/song_data/A/A/B/TRAABLR128F423B7E3.json',\n",
       " '/home/tomiwasalau/Documents/Postgres/Database_modelling_Postgres/Buidling Sparkify Music Db using Postgres/data/song_data/A/A/B/TRAABJL12903CDCF1A.json',\n",
       " '/home/tomiwasalau/Documents/Postgres/Database_modelling_Postgres/Buidling Sparkify Music Db using Postgres/data/song_data/A/A/B/TRAABYW128F4244559.json',\n",
       " '/home/tomiwasalau/Documents/Postgres/Database_modelling_Postgres/Buidling Sparkify Music Db using Postgres/data/song_data/A/A/B/TRAABDL12903CAABBA.json',\n",
       " '/home/tomiwasalau/Documents/Postgres/Database_modelling_Postgres/Buidling Sparkify Music Db using Postgres/data/song_data/A/A/B/TRAABRB128F9306DD5.json',\n",
       " '/home/tomiwasalau/Documents/Postgres/Database_modelling_Postgres/Buidling Sparkify Music Db using Postgres/data/song_data/A/A/B/TRAABXG128F9318EBD.json',\n",
       " '/home/tomiwasalau/Documents/Postgres/Database_modelling_Postgres/Buidling Sparkify Music Db using Postgres/data/song_data/A/A/C/TRAACOW128F933E35F.json',\n",
       " '/home/tomiwasalau/Documents/Postgres/Database_modelling_Postgres/Buidling Sparkify Music Db using Postgres/data/song_data/A/A/C/TRAACIW12903CC0F6D.json',\n",
       " '/home/tomiwasalau/Documents/Postgres/Database_modelling_Postgres/Buidling Sparkify Music Db using Postgres/data/song_data/A/A/C/TRAACNS128F14A2DF5.json',\n",
       " '/home/tomiwasalau/Documents/Postgres/Database_modelling_Postgres/Buidling Sparkify Music Db using Postgres/data/song_data/A/A/C/TRAACCG128F92E8A55.json',\n",
       " '/home/tomiwasalau/Documents/Postgres/Database_modelling_Postgres/Buidling Sparkify Music Db using Postgres/data/song_data/A/A/C/TRAACSL128F93462F4.json',\n",
       " '/home/tomiwasalau/Documents/Postgres/Database_modelling_Postgres/Buidling Sparkify Music Db using Postgres/data/song_data/A/A/C/TRAACQT128F9331780.json',\n",
       " '/home/tomiwasalau/Documents/Postgres/Database_modelling_Postgres/Buidling Sparkify Music Db using Postgres/data/song_data/A/A/C/TRAACPE128F421C1B9.json',\n",
       " '/home/tomiwasalau/Documents/Postgres/Database_modelling_Postgres/Buidling Sparkify Music Db using Postgres/data/song_data/A/A/C/TRAACHN128F1489601.json',\n",
       " '/home/tomiwasalau/Documents/Postgres/Database_modelling_Postgres/Buidling Sparkify Music Db using Postgres/data/song_data/A/A/C/TRAACZK128F4243829.json',\n",
       " '/home/tomiwasalau/Documents/Postgres/Database_modelling_Postgres/Buidling Sparkify Music Db using Postgres/data/song_data/A/A/C/TRAACTB12903CAAF15.json',\n",
       " '/home/tomiwasalau/Documents/Postgres/Database_modelling_Postgres/Buidling Sparkify Music Db using Postgres/data/song_data/A/A/C/TRAACER128F4290F96.json',\n",
       " '/home/tomiwasalau/Documents/Postgres/Database_modelling_Postgres/Buidling Sparkify Music Db using Postgres/data/song_data/A/A/C/TRAACFV128F935E50B.json',\n",
       " '/home/tomiwasalau/Documents/Postgres/Database_modelling_Postgres/Buidling Sparkify Music Db using Postgres/data/song_data/A/A/C/TRAACVS128E078BE39.json',\n",
       " '/home/tomiwasalau/Documents/Postgres/Database_modelling_Postgres/Buidling Sparkify Music Db using Postgres/data/song_data/A/A/C/TRAACLV128F427E123.json',\n",
       " '/home/tomiwasalau/Documents/Postgres/Database_modelling_Postgres/Buidling Sparkify Music Db using Postgres/data/song_data/A/A/A/TRAAARJ128F9320760.json',\n",
       " '/home/tomiwasalau/Documents/Postgres/Database_modelling_Postgres/Buidling Sparkify Music Db using Postgres/data/song_data/A/A/A/TRAAAEF128F4273421.json',\n",
       " '/home/tomiwasalau/Documents/Postgres/Database_modelling_Postgres/Buidling Sparkify Music Db using Postgres/data/song_data/A/A/A/TRAAABD128F429CF47.json',\n",
       " '/home/tomiwasalau/Documents/Postgres/Database_modelling_Postgres/Buidling Sparkify Music Db using Postgres/data/song_data/A/A/A/TRAAAVG12903CFA543.json',\n",
       " '/home/tomiwasalau/Documents/Postgres/Database_modelling_Postgres/Buidling Sparkify Music Db using Postgres/data/song_data/A/A/A/TRAAAVO128F93133D4.json',\n",
       " '/home/tomiwasalau/Documents/Postgres/Database_modelling_Postgres/Buidling Sparkify Music Db using Postgres/data/song_data/A/A/A/TRAAADZ128F9348C2E.json',\n",
       " '/home/tomiwasalau/Documents/Postgres/Database_modelling_Postgres/Buidling Sparkify Music Db using Postgres/data/song_data/A/A/A/TRAAAMQ128F1460CD3.json',\n",
       " '/home/tomiwasalau/Documents/Postgres/Database_modelling_Postgres/Buidling Sparkify Music Db using Postgres/data/song_data/A/A/A/TRAAAAW128F429D538.json',\n",
       " '/home/tomiwasalau/Documents/Postgres/Database_modelling_Postgres/Buidling Sparkify Music Db using Postgres/data/song_data/A/A/A/TRAAAFD128F92F423A.json',\n",
       " '/home/tomiwasalau/Documents/Postgres/Database_modelling_Postgres/Buidling Sparkify Music Db using Postgres/data/song_data/A/A/A/TRAAAMO128F1481E7F.json',\n",
       " '/home/tomiwasalau/Documents/Postgres/Database_modelling_Postgres/Buidling Sparkify Music Db using Postgres/data/song_data/A/A/A/TRAAAPK128E0786D96.json']"
      ]
     },
     "execution_count": 5,
     "metadata": {},
     "output_type": "execute_result"
    }
   ],
   "source": [
    "song_files"
   ]
  },
  {
   "cell_type": "code",
   "execution_count": 6,
   "metadata": {
    "collapsed": true
   },
   "outputs": [],
   "source": [
    "filepath = song_files[0]"
   ]
  },
  {
   "cell_type": "code",
   "execution_count": 7,
   "metadata": {},
   "outputs": [
    {
     "data": {
      "text/plain": [
       "'/home/tomiwasalau/Documents/Postgres/Database_modelling_Postgres/Buidling Sparkify Music Db using Postgres/data/song_data/A/B/B/TRABBLU128F93349CF.json'"
      ]
     },
     "execution_count": 7,
     "metadata": {},
     "output_type": "execute_result"
    }
   ],
   "source": [
    "filepath"
   ]
  },
  {
   "cell_type": "code",
   "execution_count": 8,
   "metadata": {},
   "outputs": [
    {
     "data": {
      "text/html": [
       "<div>\n",
       "<style>\n",
       "    .dataframe thead tr:only-child th {\n",
       "        text-align: right;\n",
       "    }\n",
       "\n",
       "    .dataframe thead th {\n",
       "        text-align: left;\n",
       "    }\n",
       "\n",
       "    .dataframe tbody tr th {\n",
       "        vertical-align: top;\n",
       "    }\n",
       "</style>\n",
       "<table border=\"1\" class=\"dataframe\">\n",
       "  <thead>\n",
       "    <tr style=\"text-align: right;\">\n",
       "      <th></th>\n",
       "      <th>artist_id</th>\n",
       "      <th>artist_latitude</th>\n",
       "      <th>artist_location</th>\n",
       "      <th>artist_longitude</th>\n",
       "      <th>artist_name</th>\n",
       "      <th>duration</th>\n",
       "      <th>num_songs</th>\n",
       "      <th>song_id</th>\n",
       "      <th>title</th>\n",
       "      <th>year</th>\n",
       "    </tr>\n",
       "  </thead>\n",
       "  <tbody>\n",
       "    <tr>\n",
       "      <th>0</th>\n",
       "      <td>ARNNKDK1187B98BBD5</td>\n",
       "      <td>45.80726</td>\n",
       "      <td>Zagreb Croatia</td>\n",
       "      <td>15.9676</td>\n",
       "      <td>Jinx</td>\n",
       "      <td>407.37914</td>\n",
       "      <td>1</td>\n",
       "      <td>SOFNOQK12AB01840FC</td>\n",
       "      <td>Kutt Free (DJ Volume Remix)</td>\n",
       "      <td>0</td>\n",
       "    </tr>\n",
       "  </tbody>\n",
       "</table>\n",
       "</div>"
      ],
      "text/plain": [
       "            artist_id  artist_latitude artist_location  artist_longitude  \\\n",
       "0  ARNNKDK1187B98BBD5         45.80726  Zagreb Croatia           15.9676   \n",
       "\n",
       "  artist_name   duration  num_songs             song_id  \\\n",
       "0        Jinx  407.37914          1  SOFNOQK12AB01840FC   \n",
       "\n",
       "                         title  year  \n",
       "0  Kutt Free (DJ Volume Remix)     0  "
      ]
     },
     "execution_count": 8,
     "metadata": {},
     "output_type": "execute_result"
    }
   ],
   "source": [
    "df = pd.read_json(filepath, lines=True)\n",
    "df.head()"
   ]
  },
  {
   "cell_type": "markdown",
   "metadata": {},
   "source": [
    "## #1: `songs` Table\n",
    "#### Extract Data for Songs Table\n",
    "- Select columns for song ID, title, artist ID, year, and duration\n",
    "- Use `df.values` to select just the values from the dataframe\n",
    "- Index to select the first (only) record in the dataframe\n",
    "- Convert the array to a list and set it to `song_data`"
   ]
  },
  {
   "cell_type": "code",
   "execution_count": 9,
   "metadata": {},
   "outputs": [
    {
     "data": {
      "text/plain": [
       "['SOFNOQK12AB01840FC',\n",
       " 'Kutt Free (DJ Volume Remix)',\n",
       " 'ARNNKDK1187B98BBD5',\n",
       " 0,\n",
       " 407.37914]"
      ]
     },
     "execution_count": 9,
     "metadata": {},
     "output_type": "execute_result"
    }
   ],
   "source": [
    "song_data = df[[\"song_id\", \"title\", \"artist_id\", \"year\", \"duration\"]].values[0].tolist()\n",
    "song_data"
   ]
  },
  {
   "cell_type": "markdown",
   "metadata": {},
   "source": [
    "#### Insert Record into Song Table\n",
    "Implement the `song_table_insert` query in `sql_queries.py` and run the cell below to insert a record for this song into the `songs` table. Remember to run `create_tables.py` before running the cell below to ensure you've created/resetted the `songs` table in the sparkify database."
   ]
  },
  {
   "cell_type": "code",
   "execution_count": 10,
   "metadata": {
    "collapsed": true
   },
   "outputs": [],
   "source": [
    "cur.execute(song_table_insert, song_data)\n",
    "conn.commit()"
   ]
  },
  {
   "cell_type": "markdown",
   "metadata": {},
   "source": [
    "Run `test.ipynb` to see if you've successfully added a record to this table."
   ]
  },
  {
   "cell_type": "markdown",
   "metadata": {},
   "source": [
    "## #2: `artists` Table\n",
    "#### Extract Data for Artists Table\n",
    "- Select columns for artist ID, name, location, latitude, and longitude\n",
    "- Use `df.values` to select just the values from the dataframe\n",
    "- Index to select the first (only) record in the dataframe\n",
    "- Convert the array to a list and set it to `artist_data`"
   ]
  },
  {
   "cell_type": "code",
   "execution_count": 11,
   "metadata": {},
   "outputs": [
    {
     "data": {
      "text/plain": [
       "['SOFNOQK12AB01840FC', 'Jinx', 'Zagreb Croatia', 45.80726, 15.967600000000001]"
      ]
     },
     "execution_count": 11,
     "metadata": {},
     "output_type": "execute_result"
    }
   ],
   "source": [
    "artist_data = df[[\"song_id\", \"artist_name\", \"artist_location\", \"artist_latitude\", \"artist_longitude\"]].values[0].tolist()\n",
    "artist_data"
   ]
  },
  {
   "cell_type": "markdown",
   "metadata": {},
   "source": [
    "#### Insert Record into Artist Table\n",
    "Implement the `artist_table_insert` query in `sql_queries.py` and run the cell below to insert a record for this song's artist into the `artists` table. Remember to run `create_tables.py` before running the cell below to ensure you've created/resetted the `artists` table in the sparkify database."
   ]
  },
  {
   "cell_type": "code",
   "execution_count": 12,
   "metadata": {
    "collapsed": true
   },
   "outputs": [],
   "source": [
    "cur.execute(artist_table_insert, artist_data)\n",
    "conn.commit()"
   ]
  },
  {
   "cell_type": "markdown",
   "metadata": {},
   "source": [
    "Run `test.ipynb` to see if you've successfully added a record to this table."
   ]
  },
  {
   "cell_type": "markdown",
   "metadata": {},
   "source": [
    "# Process `log_data`\n",
    "In this part, you'll perform ETL on the second dataset, `log_data`, to create the `time` and `users` dimensional tables, as well as the `songplays` fact table.\n",
    "\n",
    "Let's perform ETL on a single log file and load a single record into each table.\n",
    "- Use the `get_files` function provided above to get a list of all log JSON files in `data/log_data`\n",
    "- Select the first log file in this list\n",
    "- Read the log file and view the data"
   ]
  },
  {
   "cell_type": "code",
   "execution_count": 13,
   "metadata": {
    "collapsed": true
   },
   "outputs": [],
   "source": [
    "log_files = get_files(\"data/log_data\")"
   ]
  },
  {
   "cell_type": "code",
   "execution_count": 14,
   "metadata": {
    "collapsed": true
   },
   "outputs": [],
   "source": [
    "filepath = log_files[0]"
   ]
  },
  {
   "cell_type": "code",
   "execution_count": 15,
   "metadata": {},
   "outputs": [
    {
     "data": {
      "text/html": [
       "<div>\n",
       "<style>\n",
       "    .dataframe thead tr:only-child th {\n",
       "        text-align: right;\n",
       "    }\n",
       "\n",
       "    .dataframe thead th {\n",
       "        text-align: left;\n",
       "    }\n",
       "\n",
       "    .dataframe tbody tr th {\n",
       "        vertical-align: top;\n",
       "    }\n",
       "</style>\n",
       "<table border=\"1\" class=\"dataframe\">\n",
       "  <thead>\n",
       "    <tr style=\"text-align: right;\">\n",
       "      <th></th>\n",
       "      <th>artist</th>\n",
       "      <th>auth</th>\n",
       "      <th>firstName</th>\n",
       "      <th>gender</th>\n",
       "      <th>itemInSession</th>\n",
       "      <th>lastName</th>\n",
       "      <th>length</th>\n",
       "      <th>level</th>\n",
       "      <th>location</th>\n",
       "      <th>method</th>\n",
       "      <th>page</th>\n",
       "      <th>registration</th>\n",
       "      <th>sessionId</th>\n",
       "      <th>song</th>\n",
       "      <th>status</th>\n",
       "      <th>ts</th>\n",
       "      <th>userAgent</th>\n",
       "      <th>userId</th>\n",
       "    </tr>\n",
       "  </thead>\n",
       "  <tbody>\n",
       "    <tr>\n",
       "      <th>0</th>\n",
       "      <td>Dee Dee Bridgewater</td>\n",
       "      <td>Logged In</td>\n",
       "      <td>Lily</td>\n",
       "      <td>F</td>\n",
       "      <td>38</td>\n",
       "      <td>Koch</td>\n",
       "      <td>318.64118</td>\n",
       "      <td>paid</td>\n",
       "      <td>Chicago-Naperville-Elgin, IL-IN-WI</td>\n",
       "      <td>PUT</td>\n",
       "      <td>NextSong</td>\n",
       "      <td>1.541048e+12</td>\n",
       "      <td>818</td>\n",
       "      <td>La Vie En Rose</td>\n",
       "      <td>200</td>\n",
       "      <td>1542845032796</td>\n",
       "      <td>\"Mozilla/5.0 (X11; Linux x86_64) AppleWebKit/5...</td>\n",
       "      <td>15</td>\n",
       "    </tr>\n",
       "    <tr>\n",
       "      <th>1</th>\n",
       "      <td>Tim O'brien</td>\n",
       "      <td>Logged In</td>\n",
       "      <td>Lily</td>\n",
       "      <td>F</td>\n",
       "      <td>39</td>\n",
       "      <td>Koch</td>\n",
       "      <td>176.14322</td>\n",
       "      <td>paid</td>\n",
       "      <td>Chicago-Naperville-Elgin, IL-IN-WI</td>\n",
       "      <td>PUT</td>\n",
       "      <td>NextSong</td>\n",
       "      <td>1.541048e+12</td>\n",
       "      <td>818</td>\n",
       "      <td>Think About Last Night</td>\n",
       "      <td>200</td>\n",
       "      <td>1542845350796</td>\n",
       "      <td>\"Mozilla/5.0 (X11; Linux x86_64) AppleWebKit/5...</td>\n",
       "      <td>15</td>\n",
       "    </tr>\n",
       "    <tr>\n",
       "      <th>2</th>\n",
       "      <td>Nirvana</td>\n",
       "      <td>Logged In</td>\n",
       "      <td>Lily</td>\n",
       "      <td>F</td>\n",
       "      <td>40</td>\n",
       "      <td>Koch</td>\n",
       "      <td>215.11791</td>\n",
       "      <td>paid</td>\n",
       "      <td>Chicago-Naperville-Elgin, IL-IN-WI</td>\n",
       "      <td>PUT</td>\n",
       "      <td>NextSong</td>\n",
       "      <td>1.541048e+12</td>\n",
       "      <td>818</td>\n",
       "      <td>Love Buzz</td>\n",
       "      <td>200</td>\n",
       "      <td>1542845526796</td>\n",
       "      <td>\"Mozilla/5.0 (X11; Linux x86_64) AppleWebKit/5...</td>\n",
       "      <td>15</td>\n",
       "    </tr>\n",
       "    <tr>\n",
       "      <th>3</th>\n",
       "      <td>Weezer</td>\n",
       "      <td>Logged In</td>\n",
       "      <td>Lily</td>\n",
       "      <td>F</td>\n",
       "      <td>41</td>\n",
       "      <td>Koch</td>\n",
       "      <td>479.32036</td>\n",
       "      <td>paid</td>\n",
       "      <td>Chicago-Naperville-Elgin, IL-IN-WI</td>\n",
       "      <td>PUT</td>\n",
       "      <td>NextSong</td>\n",
       "      <td>1.541048e+12</td>\n",
       "      <td>818</td>\n",
       "      <td>Only In Dreams</td>\n",
       "      <td>200</td>\n",
       "      <td>1542845741796</td>\n",
       "      <td>\"Mozilla/5.0 (X11; Linux x86_64) AppleWebKit/5...</td>\n",
       "      <td>15</td>\n",
       "    </tr>\n",
       "    <tr>\n",
       "      <th>4</th>\n",
       "      <td>Nightwish</td>\n",
       "      <td>Logged In</td>\n",
       "      <td>Lily</td>\n",
       "      <td>F</td>\n",
       "      <td>42</td>\n",
       "      <td>Koch</td>\n",
       "      <td>286.19710</td>\n",
       "      <td>paid</td>\n",
       "      <td>Chicago-Naperville-Elgin, IL-IN-WI</td>\n",
       "      <td>PUT</td>\n",
       "      <td>NextSong</td>\n",
       "      <td>1.541048e+12</td>\n",
       "      <td>818</td>\n",
       "      <td>She Is My Sin</td>\n",
       "      <td>200</td>\n",
       "      <td>1542846220796</td>\n",
       "      <td>\"Mozilla/5.0 (X11; Linux x86_64) AppleWebKit/5...</td>\n",
       "      <td>15</td>\n",
       "    </tr>\n",
       "  </tbody>\n",
       "</table>\n",
       "</div>"
      ],
      "text/plain": [
       "                artist       auth firstName gender  itemInSession lastName  \\\n",
       "0  Dee Dee Bridgewater  Logged In      Lily      F             38     Koch   \n",
       "1          Tim O'brien  Logged In      Lily      F             39     Koch   \n",
       "2              Nirvana  Logged In      Lily      F             40     Koch   \n",
       "3               Weezer  Logged In      Lily      F             41     Koch   \n",
       "4            Nightwish  Logged In      Lily      F             42     Koch   \n",
       "\n",
       "      length level                            location method      page  \\\n",
       "0  318.64118  paid  Chicago-Naperville-Elgin, IL-IN-WI    PUT  NextSong   \n",
       "1  176.14322  paid  Chicago-Naperville-Elgin, IL-IN-WI    PUT  NextSong   \n",
       "2  215.11791  paid  Chicago-Naperville-Elgin, IL-IN-WI    PUT  NextSong   \n",
       "3  479.32036  paid  Chicago-Naperville-Elgin, IL-IN-WI    PUT  NextSong   \n",
       "4  286.19710  paid  Chicago-Naperville-Elgin, IL-IN-WI    PUT  NextSong   \n",
       "\n",
       "   registration  sessionId                    song  status             ts  \\\n",
       "0  1.541048e+12        818          La Vie En Rose     200  1542845032796   \n",
       "1  1.541048e+12        818  Think About Last Night     200  1542845350796   \n",
       "2  1.541048e+12        818               Love Buzz     200  1542845526796   \n",
       "3  1.541048e+12        818          Only In Dreams     200  1542845741796   \n",
       "4  1.541048e+12        818           She Is My Sin     200  1542846220796   \n",
       "\n",
       "                                           userAgent userId  \n",
       "0  \"Mozilla/5.0 (X11; Linux x86_64) AppleWebKit/5...     15  \n",
       "1  \"Mozilla/5.0 (X11; Linux x86_64) AppleWebKit/5...     15  \n",
       "2  \"Mozilla/5.0 (X11; Linux x86_64) AppleWebKit/5...     15  \n",
       "3  \"Mozilla/5.0 (X11; Linux x86_64) AppleWebKit/5...     15  \n",
       "4  \"Mozilla/5.0 (X11; Linux x86_64) AppleWebKit/5...     15  "
      ]
     },
     "execution_count": 15,
     "metadata": {},
     "output_type": "execute_result"
    }
   ],
   "source": [
    "df = pd.read_json(filepath, lines = True)\n",
    "df.head()"
   ]
  },
  {
   "cell_type": "markdown",
   "metadata": {},
   "source": [
    "## #3: `time` Table\n",
    "#### Extract Data for Time Table\n",
    "- Filter records by `NextSong` action\n",
    "- Convert the `ts` timestamp column to datetime\n",
    "  - Hint: the current timestamp is in milliseconds\n",
    "- Extract the timestamp, hour, day, week of year, month, year, and weekday from the `ts` column and set `time_data` to a list containing these values in order\n",
    "  - Hint: use pandas' [`dt` attribute](https://pandas.pydata.org/pandas-docs/stable/reference/api/pandas.Series.dt.html) to access easily datetimelike properties.\n",
    "- Specify labels for these columns and set to `column_labels`\n",
    "- Create a dataframe, `time_df,` containing the time data for this file by combining `column_labels` and `time_data` into a dictionary and converting this into a dataframe"
   ]
  },
  {
   "cell_type": "code",
   "execution_count": 16,
   "metadata": {},
   "outputs": [
    {
     "data": {
      "text/html": [
       "<div>\n",
       "<style>\n",
       "    .dataframe thead tr:only-child th {\n",
       "        text-align: right;\n",
       "    }\n",
       "\n",
       "    .dataframe thead th {\n",
       "        text-align: left;\n",
       "    }\n",
       "\n",
       "    .dataframe tbody tr th {\n",
       "        vertical-align: top;\n",
       "    }\n",
       "</style>\n",
       "<table border=\"1\" class=\"dataframe\">\n",
       "  <thead>\n",
       "    <tr style=\"text-align: right;\">\n",
       "      <th></th>\n",
       "      <th>artist</th>\n",
       "      <th>auth</th>\n",
       "      <th>firstName</th>\n",
       "      <th>gender</th>\n",
       "      <th>itemInSession</th>\n",
       "      <th>lastName</th>\n",
       "      <th>length</th>\n",
       "      <th>level</th>\n",
       "      <th>location</th>\n",
       "      <th>method</th>\n",
       "      <th>page</th>\n",
       "      <th>registration</th>\n",
       "      <th>sessionId</th>\n",
       "      <th>song</th>\n",
       "      <th>status</th>\n",
       "      <th>ts</th>\n",
       "      <th>userAgent</th>\n",
       "      <th>userId</th>\n",
       "    </tr>\n",
       "  </thead>\n",
       "  <tbody>\n",
       "    <tr>\n",
       "      <th>0</th>\n",
       "      <td>Dee Dee Bridgewater</td>\n",
       "      <td>Logged In</td>\n",
       "      <td>Lily</td>\n",
       "      <td>F</td>\n",
       "      <td>38</td>\n",
       "      <td>Koch</td>\n",
       "      <td>318.64118</td>\n",
       "      <td>paid</td>\n",
       "      <td>Chicago-Naperville-Elgin, IL-IN-WI</td>\n",
       "      <td>PUT</td>\n",
       "      <td>NextSong</td>\n",
       "      <td>1.541048e+12</td>\n",
       "      <td>818</td>\n",
       "      <td>La Vie En Rose</td>\n",
       "      <td>200</td>\n",
       "      <td>1542845032796</td>\n",
       "      <td>\"Mozilla/5.0 (X11; Linux x86_64) AppleWebKit/5...</td>\n",
       "      <td>15</td>\n",
       "    </tr>\n",
       "    <tr>\n",
       "      <th>1</th>\n",
       "      <td>Tim O'brien</td>\n",
       "      <td>Logged In</td>\n",
       "      <td>Lily</td>\n",
       "      <td>F</td>\n",
       "      <td>39</td>\n",
       "      <td>Koch</td>\n",
       "      <td>176.14322</td>\n",
       "      <td>paid</td>\n",
       "      <td>Chicago-Naperville-Elgin, IL-IN-WI</td>\n",
       "      <td>PUT</td>\n",
       "      <td>NextSong</td>\n",
       "      <td>1.541048e+12</td>\n",
       "      <td>818</td>\n",
       "      <td>Think About Last Night</td>\n",
       "      <td>200</td>\n",
       "      <td>1542845350796</td>\n",
       "      <td>\"Mozilla/5.0 (X11; Linux x86_64) AppleWebKit/5...</td>\n",
       "      <td>15</td>\n",
       "    </tr>\n",
       "    <tr>\n",
       "      <th>2</th>\n",
       "      <td>Nirvana</td>\n",
       "      <td>Logged In</td>\n",
       "      <td>Lily</td>\n",
       "      <td>F</td>\n",
       "      <td>40</td>\n",
       "      <td>Koch</td>\n",
       "      <td>215.11791</td>\n",
       "      <td>paid</td>\n",
       "      <td>Chicago-Naperville-Elgin, IL-IN-WI</td>\n",
       "      <td>PUT</td>\n",
       "      <td>NextSong</td>\n",
       "      <td>1.541048e+12</td>\n",
       "      <td>818</td>\n",
       "      <td>Love Buzz</td>\n",
       "      <td>200</td>\n",
       "      <td>1542845526796</td>\n",
       "      <td>\"Mozilla/5.0 (X11; Linux x86_64) AppleWebKit/5...</td>\n",
       "      <td>15</td>\n",
       "    </tr>\n",
       "    <tr>\n",
       "      <th>3</th>\n",
       "      <td>Weezer</td>\n",
       "      <td>Logged In</td>\n",
       "      <td>Lily</td>\n",
       "      <td>F</td>\n",
       "      <td>41</td>\n",
       "      <td>Koch</td>\n",
       "      <td>479.32036</td>\n",
       "      <td>paid</td>\n",
       "      <td>Chicago-Naperville-Elgin, IL-IN-WI</td>\n",
       "      <td>PUT</td>\n",
       "      <td>NextSong</td>\n",
       "      <td>1.541048e+12</td>\n",
       "      <td>818</td>\n",
       "      <td>Only In Dreams</td>\n",
       "      <td>200</td>\n",
       "      <td>1542845741796</td>\n",
       "      <td>\"Mozilla/5.0 (X11; Linux x86_64) AppleWebKit/5...</td>\n",
       "      <td>15</td>\n",
       "    </tr>\n",
       "    <tr>\n",
       "      <th>4</th>\n",
       "      <td>Nightwish</td>\n",
       "      <td>Logged In</td>\n",
       "      <td>Lily</td>\n",
       "      <td>F</td>\n",
       "      <td>42</td>\n",
       "      <td>Koch</td>\n",
       "      <td>286.19710</td>\n",
       "      <td>paid</td>\n",
       "      <td>Chicago-Naperville-Elgin, IL-IN-WI</td>\n",
       "      <td>PUT</td>\n",
       "      <td>NextSong</td>\n",
       "      <td>1.541048e+12</td>\n",
       "      <td>818</td>\n",
       "      <td>She Is My Sin</td>\n",
       "      <td>200</td>\n",
       "      <td>1542846220796</td>\n",
       "      <td>\"Mozilla/5.0 (X11; Linux x86_64) AppleWebKit/5...</td>\n",
       "      <td>15</td>\n",
       "    </tr>\n",
       "  </tbody>\n",
       "</table>\n",
       "</div>"
      ],
      "text/plain": [
       "                artist       auth firstName gender  itemInSession lastName  \\\n",
       "0  Dee Dee Bridgewater  Logged In      Lily      F             38     Koch   \n",
       "1          Tim O'brien  Logged In      Lily      F             39     Koch   \n",
       "2              Nirvana  Logged In      Lily      F             40     Koch   \n",
       "3               Weezer  Logged In      Lily      F             41     Koch   \n",
       "4            Nightwish  Logged In      Lily      F             42     Koch   \n",
       "\n",
       "      length level                            location method      page  \\\n",
       "0  318.64118  paid  Chicago-Naperville-Elgin, IL-IN-WI    PUT  NextSong   \n",
       "1  176.14322  paid  Chicago-Naperville-Elgin, IL-IN-WI    PUT  NextSong   \n",
       "2  215.11791  paid  Chicago-Naperville-Elgin, IL-IN-WI    PUT  NextSong   \n",
       "3  479.32036  paid  Chicago-Naperville-Elgin, IL-IN-WI    PUT  NextSong   \n",
       "4  286.19710  paid  Chicago-Naperville-Elgin, IL-IN-WI    PUT  NextSong   \n",
       "\n",
       "   registration  sessionId                    song  status             ts  \\\n",
       "0  1.541048e+12        818          La Vie En Rose     200  1542845032796   \n",
       "1  1.541048e+12        818  Think About Last Night     200  1542845350796   \n",
       "2  1.541048e+12        818               Love Buzz     200  1542845526796   \n",
       "3  1.541048e+12        818          Only In Dreams     200  1542845741796   \n",
       "4  1.541048e+12        818           She Is My Sin     200  1542846220796   \n",
       "\n",
       "                                           userAgent userId  \n",
       "0  \"Mozilla/5.0 (X11; Linux x86_64) AppleWebKit/5...     15  \n",
       "1  \"Mozilla/5.0 (X11; Linux x86_64) AppleWebKit/5...     15  \n",
       "2  \"Mozilla/5.0 (X11; Linux x86_64) AppleWebKit/5...     15  \n",
       "3  \"Mozilla/5.0 (X11; Linux x86_64) AppleWebKit/5...     15  \n",
       "4  \"Mozilla/5.0 (X11; Linux x86_64) AppleWebKit/5...     15  "
      ]
     },
     "execution_count": 16,
     "metadata": {},
     "output_type": "execute_result"
    }
   ],
   "source": [
    "df = df[df.page == \"NextSong\"]\n",
    "df.head()"
   ]
  },
  {
   "cell_type": "code",
   "execution_count": 17,
   "metadata": {},
   "outputs": [
    {
     "data": {
      "text/plain": [
       "0   2018-11-22 00:03:52.796\n",
       "1   2018-11-22 00:09:10.796\n",
       "2   2018-11-22 00:12:06.796\n",
       "3   2018-11-22 00:15:41.796\n",
       "4   2018-11-22 00:23:40.796\n",
       "Name: ts, dtype: datetime64[ns]"
      ]
     },
     "execution_count": 17,
     "metadata": {},
     "output_type": "execute_result"
    }
   ],
   "source": [
    "t = pd.to_datetime(df[\"ts\"], unit = 'ms')\n",
    "t.head()"
   ]
  },
  {
   "cell_type": "code",
   "execution_count": 18,
   "metadata": {
    "collapsed": true
   },
   "outputs": [],
   "source": [
    "time_data = (df.ts.tolist(),t.dt.hour.values.tolist(),t.dt.day.values.tolist(), \n",
    "             t.dt.week.values.tolist(), t.dt.month.values.tolist(), t.dt.year.values.tolist(),\n",
    "             t.dt.weekday.values.tolist())\n",
    "column_labels = ('Timestamp','hour', 'day','week','month','year','weekday')"
   ]
  },
  {
   "cell_type": "code",
   "execution_count": 19,
   "metadata": {
    "collapsed": true
   },
   "outputs": [],
   "source": [
    "time_df = pd.DataFrame(list(time_data), index = list(column_labels)).transpose()\n",
    "\n",
    "time_df = time_df.astype(int)"
   ]
  },
  {
   "cell_type": "markdown",
   "metadata": {},
   "source": [
    "#### Insert Records into Time Table\n",
    "Implement the `time_table_insert` query in `sql_queries.py` and run the cell below to insert records for the timestamps in this log file into the `time` table. Remember to run `create_tables.py` before running the cell below to ensure you've created/resetted the `time` table in the sparkify database."
   ]
  },
  {
   "cell_type": "code",
   "execution_count": 20,
   "metadata": {},
   "outputs": [],
   "source": [
    "for i, row in time_df.iterrows():\n",
    "    cur.execute(time_table_insert, row.tolist())\n",
    "    conn.commit()"
   ]
  },
  {
   "cell_type": "markdown",
   "metadata": {},
   "source": [
    "Run `test.ipynb` to see if you've successfully added records to this table."
   ]
  },
  {
   "cell_type": "markdown",
   "metadata": {},
   "source": [
    "## #4: `users` Table\n",
    "#### Extract Data for Users Table\n",
    "- Select columns for user ID, first name, last name, gender and level and set to `user_df`"
   ]
  },
  {
   "cell_type": "code",
   "execution_count": 21,
   "metadata": {
    "collapsed": true
   },
   "outputs": [],
   "source": [
    "user_df = df[['userId','firstName', 'lastName', 'gender','level']]"
   ]
  },
  {
   "cell_type": "code",
   "execution_count": 22,
   "metadata": {},
   "outputs": [
    {
     "data": {
      "text/plain": [
       "(5, 5)"
      ]
     },
     "execution_count": 22,
     "metadata": {},
     "output_type": "execute_result"
    }
   ],
   "source": [
    "user_df.head().shape"
   ]
  },
  {
   "cell_type": "markdown",
   "metadata": {},
   "source": [
    "#### Insert Records into Users Table\n",
    "Implement the `user_table_insert` query in `sql_queries.py` and run the cell below to insert records for the users in this log file into the `users` table. Remember to run `create_tables.py` before running the cell below to ensure you've created/resetted the `users` table in the sparkify database."
   ]
  },
  {
   "cell_type": "code",
   "execution_count": 23,
   "metadata": {},
   "outputs": [],
   "source": [
    "for i, row in user_df.iterrows():\n",
    "    cur.execute(user_table_insert, row)\n",
    "    conn.commit()"
   ]
  },
  {
   "cell_type": "markdown",
   "metadata": {},
   "source": [
    "Run `test.ipynb` to see if you've successfully added records to this table."
   ]
  },
  {
   "cell_type": "markdown",
   "metadata": {},
   "source": [
    "## #5: `songplays` Table\n",
    "#### Extract Data and Songplays Table\n",
    "This one is a little more complicated since information from the songs table, artists table, and original log file are all needed for the `songplays` table. Since the log file does not specify an ID for either the song or the artist, you'll need to get the song ID and artist ID by querying the songs and artists tables to find matches based on song title, artist name, and song duration time.\n",
    "- Implement the `song_select` query in `sql_queries.py` to find the song ID and artist ID based on the title, artist name, and duration of a song.\n",
    "- Select the timestamp, user ID, level, song ID, artist ID, session ID, location, and user agent and set to `songplay_data`\n",
    "\n",
    "#### Insert Records into Songplays Table\n",
    "- Implement the `songplay_table_insert` query and run the cell below to insert records for the songplay actions in this log file into the `songplays` table. Remember to run `create_tables.py` before running the cell below to ensure you've created/resetted the `songplays` table in the sparkify database."
   ]
  },
  {
   "cell_type": "code",
   "execution_count": 25,
   "metadata": {},
   "outputs": [],
   "source": [
    "for index, row in df.iterrows():\n",
    "\n",
    "    # get songid and artistid from song and artist tables\n",
    "    cur.execute(song_select, (row.song, row.artist, row.length))\n",
    "    results = cur.fetchone()\n",
    "    \n",
    "    #print(results)\n",
    "    if results:\n",
    "        songid, artistid = results\n",
    "    else:\n",
    "        songid, artistid = None, None\n",
    "\n",
    "    # insert songplay record\n",
    "    songplay_data = (df.ts[index].item(),row.userId,row.level,songid,artistid,row.sessionId,row.location,row.userAgent)\n",
    "    cur.execute(songplay_table_insert, songplay_data)\n",
    "    conn.commit()"
   ]
  },
  {
   "cell_type": "markdown",
   "metadata": {},
   "source": [
    "Run `test.ipynb` to see if you've successfully added records to this table."
   ]
  },
  {
   "cell_type": "markdown",
   "metadata": {},
   "source": [
    "# Close Connection to Sparkify Database"
   ]
  },
  {
   "cell_type": "code",
   "execution_count": null,
   "metadata": {
    "collapsed": true
   },
   "outputs": [],
   "source": [
    "conn.close()"
   ]
  },
  {
   "cell_type": "markdown",
   "metadata": {},
   "source": [
    "# Implement `etl.py`\n",
    "Use what you've completed in this notebook to implement `etl.py`."
   ]
  },
  {
   "cell_type": "code",
   "execution_count": null,
   "metadata": {
    "collapsed": true
   },
   "outputs": [],
   "source": []
  }
 ],
 "metadata": {
  "kernelspec": {
   "display_name": "Python 3",
   "language": "python",
   "name": "python3"
  },
  "language_info": {
   "codemirror_mode": {
    "name": "ipython",
    "version": 3
   },
   "file_extension": ".py",
   "mimetype": "text/x-python",
   "name": "python",
   "nbconvert_exporter": "python",
   "pygments_lexer": "ipython3",
   "version": "3.6.3"
  }
 },
 "nbformat": 4,
 "nbformat_minor": 4
}
